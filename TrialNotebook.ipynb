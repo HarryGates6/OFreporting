{
 "cells": [
  {
   "cell_type": "markdown",
   "id": "44516253",
   "metadata": {},
   "source": [
    "# KPI Processing and Graph plotting\n",
    "### This Jupyter Notebook will walk through the method of dataprocessing for the contractor KPI's "
   ]
  },
  {
   "cell_type": "markdown",
   "id": "7fb318f0",
   "metadata": {},
   "source": [
    "## Importing required Libraries \n",
    "- The first step to any python coding is to import the libraries you will require. Libraries are essentially add ons which allow you to call upon functions which are not built into python itself.\n",
    "- We do this by typing <font color ='green'> **import** </font> the name of the library and then <font color='green'> **as** </font> and what we want to refer to the library as in the code.\n",
    "    - you can import libraries <font color='green'> **as** </font> anything you want but its best to use the 'generally accepted' shortenings as if you ever look any codes up online you will find these. \n",
    "    \n",
    "### Description of the libraries used here\n",
    "- Matplotlib.pyplot (plt), this is the primary library for plotting graphs and charts. It can plot all sorts of graphs from line to bar to pie. Very straightforward to use. \n",
    "- Pandas (pd) , this is the library used for reading and writing excel files. pd.dataframe function will turn a table from excel into a pandas dataframe which is compatible for use with python processing.\n",
    "- Numpy (np), an essential library for mathematical functions. Functions such as np.linspace takes a range and produces a list of numbers at specified intervals inbetween them. "
   ]
  },
  {
   "cell_type": "code",
   "execution_count": 2,
   "id": "9bacf430",
   "metadata": {},
   "outputs": [],
   "source": [
    "import matplotlib.pyplot as plt\n",
    "import pandas as pd\n",
    "import numpy as np\n",
    "import openpyxl as px \n",
    "import matplotlib.colors as colors "
   ]
  },
  {
   "cell_type": "markdown",
   "id": "4e174ffd",
   "metadata": {},
   "source": [
    "## Choosing the filename\n",
    "\n",
    "In the cell below, input the name of the excel file which stores the KPI data from the contractors in the format seen below. Make sure there are speech marks around the filename and it is a .xlsx file\n",
    "\n",
    "<font color = 'red'> **This part may have to be changed if all the contractors wont input their datd into the same excel workbook. In that case we will make the next function take filename as one of the arguments.**</font> \n"
   ]
  },
  {
   "cell_type": "code",
   "execution_count": 3,
   "id": "615fe6eb",
   "metadata": {},
   "outputs": [],
   "source": [
    "filename = 'Sample_KPI_Processing.xlsx'"
   ]
  },
  {
   "cell_type": "markdown",
   "id": "e9478c7f",
   "metadata": {},
   "source": [
    "## Calculating weighted KPI score for each contractor. "
   ]
  },
  {
   "cell_type": "code",
   "execution_count": 4,
   "id": "84e72ec4",
   "metadata": {},
   "outputs": [
    {
     "name": "stdout",
     "output_type": "stream",
     "text": [
      "T2 overall KPI Performance for Jan23 is 100.0%\n",
      "UKCS overall KPI Performance for Jan23 is 100.0%\n"
     ]
    },
    {
     "data": {
      "image/png": "[encoded data removed]",
      "text/plain": [
       "<Figure size 640x480 with 1 Axes>"
      ]
     },
     "metadata": {},
     "output_type": "display_data"
    }
   ],
   "source": [
    "def calc_KPI(sheet, name, ):\n",
    "    KPI1 = pd.read_excel(filename, sheet, index_col=None, usecols = \"D\",  header = 2, nrows=0)\n",
    "    KPI2= pd.read_excel(filename, sheet, index_col=None, usecols = \"D\",  header = 3, nrows=0)\n",
    "    KPI3 = pd.read_excel(filename, sheet, index_col=None, usecols = \"D\",  header = 4, nrows=0)\n",
    "    \n",
    "    no_crews= KPI1.columns.values[0]\n",
    "    prof_flights = KPI2.columns.values[0]\n",
    "    no_a_checks = KPI3.columns.values[0]\n",
    "\n",
    "\n",
    "    if no_crews >= 4:\n",
    "       no_crews_ptg = 100\n",
    "    elif no_crews <= 2: \n",
    "       no_crews_ptg = 0 \n",
    "    else: \n",
    "       no_crews_ptg = 50 \n",
    "\n",
    "    if prof_flights>=1:\n",
    "       prof_flights_ptg = 100\n",
    "    else:\n",
    "       prof_flights_ptg = 50 \n",
    "\n",
    "    if no_a_checks >=2:\n",
    "       A_Check_ptg = 100\n",
    "    elif no_a_checks == 1:\n",
    "       A_Check_ptg = 50 \n",
    "    else:\n",
    "       A_Check_ptg = 0 \n",
    "       \n",
    "    no_crews_ptg_wtd= no_crews_ptg * 0.50 \n",
    "    prof_flights_ptg_wtd= prof_flights_ptg *0.3\n",
    "    A_Check_ptg_wtd = A_Check_ptg * 0.2 \n",
    "       \n",
    "    TOTAL_PERFORMANCE = no_crews_ptg_wtd + prof_flights_ptg_wtd + A_Check_ptg_wtd\n",
    "    name = name   \n",
    "    return TOTAL_PERFORMANCE , name\n",
    "\n",
    "T2performanceJan23, T2name = calc_KPI('Sheet2', 'T2')\n",
    "print(f'{T2name} overall KPI Performance for Jan23 is {T2performanceJan23}%')\n",
    "\n",
    "UKCSperformanceJan23, UKCSname = calc_KPI('Sheet3','UKCS')  \n",
    "print(f'{UKCSname} overall KPI Performance for Jan23 is {UKCSperformanceJan23}%')\n",
    "ys = [T2performanceJan23, UKCSperformanceJan23]\n",
    "names = ['T2', 'UKCS']\n",
    "plt.bar(names, ys)\n",
    "plt.show()"
   ]
  },
  {
   "cell_type": "code",
   "execution_count": null,
   "id": "e04dbef1",
   "metadata": {},
   "outputs": [],
   "source": []
  }
 ],
 "metadata": {
  "kernelspec": {
   "display_name": "Python 3 (ipykernel)",
   "language": "python",
   "name": "python3"
  },
  "language_info": {
   "codemirror_mode": {
    "name": "ipython",
    "version": 3
   },
   "file_extension": ".py",
   "mimetype": "text/x-python",
   "name": "python",
   "nbconvert_exporter": "python",
   "pygments_lexer": "ipython3",
   "version": "3.11.3"
  }
 },
 "nbformat": 4,
 "nbformat_minor": 5
}
